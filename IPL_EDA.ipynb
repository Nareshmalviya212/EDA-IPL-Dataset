{
 "cells": [
  {
   "cell_type": "code",
   "execution_count": 16,
   "id": "853e557e",
   "metadata": {},
   "outputs": [],
   "source": [
    "#data analysis on ipl team\n",
    "import pandas as pd\n",
    "import numpy as np\n",
    "import matplotlib.pyplot as plt\n",
    "import seaborn as sns\n",
    "import warnings\n",
    "warnings.filterwarnings(\"ignore\")"
   ]
  },
  {
   "cell_type": "code",
   "execution_count": 4,
   "id": "6e9c3cbc",
   "metadata": {},
   "outputs": [
    {
     "data": {
      "text/html": [
       "<div>\n",
       "<style scoped>\n",
       "    .dataframe tbody tr th:only-of-type {\n",
       "        vertical-align: middle;\n",
       "    }\n",
       "\n",
       "    .dataframe tbody tr th {\n",
       "        vertical-align: top;\n",
       "    }\n",
       "\n",
       "    .dataframe thead th {\n",
       "        text-align: right;\n",
       "    }\n",
       "</style>\n",
       "<table border=\"1\" class=\"dataframe\">\n",
       "  <thead>\n",
       "    <tr style=\"text-align: right;\">\n",
       "      <th></th>\n",
       "      <th>Year</th>\n",
       "      <th>Winner</th>\n",
       "      <th>Runner Up</th>\n",
       "      <th>Player of the Series</th>\n",
       "      <th>No. of Teams</th>\n",
       "      <th>Venue</th>\n",
       "    </tr>\n",
       "  </thead>\n",
       "  <tbody>\n",
       "    <tr>\n",
       "      <th>0</th>\n",
       "      <td>IPL Winner 2021</td>\n",
       "      <td>Chennai Super Kings</td>\n",
       "      <td>Kolkata Knight Riders</td>\n",
       "      <td>Faf du Plessis</td>\n",
       "      <td>8</td>\n",
       "      <td>Dubai</td>\n",
       "    </tr>\n",
       "    <tr>\n",
       "      <th>1</th>\n",
       "      <td>IPL winner 2020</td>\n",
       "      <td>Mumbai Indians</td>\n",
       "      <td>Delhi Capitals</td>\n",
       "      <td>Trent Boult</td>\n",
       "      <td>8</td>\n",
       "      <td>Dubai</td>\n",
       "    </tr>\n",
       "    <tr>\n",
       "      <th>2</th>\n",
       "      <td>IPL winner 2019</td>\n",
       "      <td>Mumbai Indians</td>\n",
       "      <td>Chennai Super Kings</td>\n",
       "      <td>Jasprit Bumrah</td>\n",
       "      <td>8</td>\n",
       "      <td>Hyderabad</td>\n",
       "    </tr>\n",
       "    <tr>\n",
       "      <th>3</th>\n",
       "      <td>IPL winner 2018</td>\n",
       "      <td>Chennai Super Kings</td>\n",
       "      <td>Sunrisers Hyderabad</td>\n",
       "      <td>Shane Watson</td>\n",
       "      <td>8</td>\n",
       "      <td>Mumbai</td>\n",
       "    </tr>\n",
       "    <tr>\n",
       "      <th>4</th>\n",
       "      <td>IPL winner 2017</td>\n",
       "      <td>Mumbai Indians</td>\n",
       "      <td>Rising Pune Supergiants</td>\n",
       "      <td>Krunal Pandya</td>\n",
       "      <td>8</td>\n",
       "      <td>Hyderabad</td>\n",
       "    </tr>\n",
       "    <tr>\n",
       "      <th>5</th>\n",
       "      <td>IPL winner 2016</td>\n",
       "      <td>Sunrisers Hyderabad</td>\n",
       "      <td>Royal Challengers Bangalore</td>\n",
       "      <td>Ben Cutting</td>\n",
       "      <td>8</td>\n",
       "      <td>Bangalore</td>\n",
       "    </tr>\n",
       "    <tr>\n",
       "      <th>6</th>\n",
       "      <td>IPL winner 2015</td>\n",
       "      <td>Mumbai Indians</td>\n",
       "      <td>Chennai Super Kings</td>\n",
       "      <td>Rohit Sharma</td>\n",
       "      <td>8</td>\n",
       "      <td>Kolkata</td>\n",
       "    </tr>\n",
       "    <tr>\n",
       "      <th>7</th>\n",
       "      <td>IPL winner 2014</td>\n",
       "      <td>Kolkata Knight Riders</td>\n",
       "      <td>Kings XI Punjab</td>\n",
       "      <td>Manish Pandey</td>\n",
       "      <td>8</td>\n",
       "      <td>Bangalore</td>\n",
       "    </tr>\n",
       "    <tr>\n",
       "      <th>8</th>\n",
       "      <td>IPL winner 2013</td>\n",
       "      <td>Mumbai Indians</td>\n",
       "      <td>Chennai Super Kings</td>\n",
       "      <td>Kieron Pollard</td>\n",
       "      <td>9</td>\n",
       "      <td>Kolkata</td>\n",
       "    </tr>\n",
       "    <tr>\n",
       "      <th>9</th>\n",
       "      <td>IPL winner 2012</td>\n",
       "      <td>Kolkata Knight Riders</td>\n",
       "      <td>Chennai Super Kings</td>\n",
       "      <td>Manvinder Bisla</td>\n",
       "      <td>9</td>\n",
       "      <td>Chennai</td>\n",
       "    </tr>\n",
       "    <tr>\n",
       "      <th>10</th>\n",
       "      <td>IPL winner 2011</td>\n",
       "      <td>Chennai Super Kings</td>\n",
       "      <td>Royal Challengers Bangalore</td>\n",
       "      <td>Murali Vijay</td>\n",
       "      <td>10</td>\n",
       "      <td>Chennai</td>\n",
       "    </tr>\n",
       "    <tr>\n",
       "      <th>11</th>\n",
       "      <td>IPL winner 2010</td>\n",
       "      <td>Chennai Super Kings</td>\n",
       "      <td>Mumbai Indians</td>\n",
       "      <td>Suresh Raina</td>\n",
       "      <td>8</td>\n",
       "      <td>Mumbai</td>\n",
       "    </tr>\n",
       "    <tr>\n",
       "      <th>12</th>\n",
       "      <td>IPL winner 2009</td>\n",
       "      <td>Deccan Chargers</td>\n",
       "      <td>Royal Challengers Bangalore</td>\n",
       "      <td>Anil Kumble</td>\n",
       "      <td>8</td>\n",
       "      <td>Johannesburg</td>\n",
       "    </tr>\n",
       "    <tr>\n",
       "      <th>13</th>\n",
       "      <td>IPL winner 2008</td>\n",
       "      <td>Rajasthan Royals</td>\n",
       "      <td>Chennai Super Kings</td>\n",
       "      <td>Yusuf Pathan</td>\n",
       "      <td>8</td>\n",
       "      <td>Mumbai</td>\n",
       "    </tr>\n",
       "  </tbody>\n",
       "</table>\n",
       "</div>"
      ],
      "text/plain": [
       "               Year                 Winner                    Runner Up  \\\n",
       "0   IPL Winner 2021    Chennai Super Kings        Kolkata Knight Riders   \n",
       "1   IPL winner 2020         Mumbai Indians               Delhi Capitals   \n",
       "2   IPL winner 2019         Mumbai Indians          Chennai Super Kings   \n",
       "3   IPL winner 2018    Chennai Super Kings          Sunrisers Hyderabad   \n",
       "4   IPL winner 2017         Mumbai Indians      Rising Pune Supergiants   \n",
       "5   IPL winner 2016    Sunrisers Hyderabad  Royal Challengers Bangalore   \n",
       "6   IPL winner 2015         Mumbai Indians          Chennai Super Kings   \n",
       "7   IPL winner 2014  Kolkata Knight Riders              Kings XI Punjab   \n",
       "8   IPL winner 2013         Mumbai Indians          Chennai Super Kings   \n",
       "9   IPL winner 2012  Kolkata Knight Riders          Chennai Super Kings   \n",
       "10  IPL winner 2011    Chennai Super Kings  Royal Challengers Bangalore   \n",
       "11  IPL winner 2010    Chennai Super Kings               Mumbai Indians   \n",
       "12  IPL winner 2009        Deccan Chargers  Royal Challengers Bangalore   \n",
       "13  IPL winner 2008       Rajasthan Royals          Chennai Super Kings   \n",
       "\n",
       "   Player of the Series  No. of Teams         Venue  \n",
       "0        Faf du Plessis             8         Dubai  \n",
       "1           Trent Boult             8         Dubai  \n",
       "2        Jasprit Bumrah             8     Hyderabad  \n",
       "3          Shane Watson             8        Mumbai  \n",
       "4         Krunal Pandya             8     Hyderabad  \n",
       "5           Ben Cutting             8     Bangalore  \n",
       "6          Rohit Sharma             8       Kolkata  \n",
       "7         Manish Pandey             8     Bangalore  \n",
       "8        Kieron Pollard             9       Kolkata  \n",
       "9       Manvinder Bisla             9       Chennai  \n",
       "10         Murali Vijay            10       Chennai  \n",
       "11         Suresh Raina             8        Mumbai  \n",
       "12          Anil Kumble             8  Johannesburg  \n",
       "13         Yusuf Pathan             8        Mumbai  "
      ]
     },
     "execution_count": 4,
     "metadata": {},
     "output_type": "execute_result"
    }
   ],
   "source": [
    "match=pd.read_clipboard()\n",
    "#match user define dataframe\n",
    "#clipboard - is a temprory memory which hold current data\n",
    "match"
   ]
  },
  {
   "cell_type": "code",
   "execution_count": 5,
   "id": "83356201",
   "metadata": {},
   "outputs": [
    {
     "data": {
      "text/plain": [
       "(14, 6)"
      ]
     },
     "execution_count": 5,
     "metadata": {},
     "output_type": "execute_result"
    }
   ],
   "source": [
    "match.shape #how many rows and columns"
   ]
  },
  {
   "cell_type": "code",
   "execution_count": 6,
   "id": "3beab554",
   "metadata": {},
   "outputs": [
    {
     "data": {
      "text/plain": [
       "Index(['Year', 'Winner', 'Runner Up', 'Player of the Series', 'No. of Teams',\n",
       "       'Venue'],\n",
       "      dtype='object')"
      ]
     },
     "execution_count": 6,
     "metadata": {},
     "output_type": "execute_result"
    }
   ],
   "source": [
    "#to show column name\n",
    "match.columns"
   ]
  },
  {
   "cell_type": "code",
   "execution_count": 8,
   "id": "d41d1e77",
   "metadata": {},
   "outputs": [
    {
     "data": {
      "text/plain": [
       "Year                    object\n",
       "Winner                  object\n",
       "Runner Up               object\n",
       "Player of the Series    object\n",
       "No. of Teams             int64\n",
       "Venue                   object\n",
       "dtype: object"
      ]
     },
     "execution_count": 8,
     "metadata": {},
     "output_type": "execute_result"
    }
   ],
   "source": [
    "#to chcek data type\n",
    "match.dtypes"
   ]
  },
  {
   "cell_type": "code",
   "execution_count": 9,
   "id": "65158b32",
   "metadata": {},
   "outputs": [
    {
     "data": {
      "text/html": [
       "<div>\n",
       "<style scoped>\n",
       "    .dataframe tbody tr th:only-of-type {\n",
       "        vertical-align: middle;\n",
       "    }\n",
       "\n",
       "    .dataframe tbody tr th {\n",
       "        vertical-align: top;\n",
       "    }\n",
       "\n",
       "    .dataframe thead th {\n",
       "        text-align: right;\n",
       "    }\n",
       "</style>\n",
       "<table border=\"1\" class=\"dataframe\">\n",
       "  <thead>\n",
       "    <tr style=\"text-align: right;\">\n",
       "      <th></th>\n",
       "      <th>Year</th>\n",
       "      <th>Winner</th>\n",
       "      <th>Runner Up</th>\n",
       "      <th>Player of the Series</th>\n",
       "      <th>No. of Teams</th>\n",
       "      <th>Venue</th>\n",
       "    </tr>\n",
       "  </thead>\n",
       "  <tbody>\n",
       "    <tr>\n",
       "      <th>0</th>\n",
       "      <td>IPL Winner 2021</td>\n",
       "      <td>Chennai Super Kings</td>\n",
       "      <td>Kolkata Knight Riders</td>\n",
       "      <td>Faf du Plessis</td>\n",
       "      <td>8</td>\n",
       "      <td>Dubai</td>\n",
       "    </tr>\n",
       "    <tr>\n",
       "      <th>1</th>\n",
       "      <td>IPL winner 2020</td>\n",
       "      <td>Mumbai Indians</td>\n",
       "      <td>Delhi Capitals</td>\n",
       "      <td>Trent Boult</td>\n",
       "      <td>8</td>\n",
       "      <td>Dubai</td>\n",
       "    </tr>\n",
       "    <tr>\n",
       "      <th>2</th>\n",
       "      <td>IPL winner 2019</td>\n",
       "      <td>Mumbai Indians</td>\n",
       "      <td>Chennai Super Kings</td>\n",
       "      <td>Jasprit Bumrah</td>\n",
       "      <td>8</td>\n",
       "      <td>Hyderabad</td>\n",
       "    </tr>\n",
       "    <tr>\n",
       "      <th>3</th>\n",
       "      <td>IPL winner 2018</td>\n",
       "      <td>Chennai Super Kings</td>\n",
       "      <td>Sunrisers Hyderabad</td>\n",
       "      <td>Shane Watson</td>\n",
       "      <td>8</td>\n",
       "      <td>Mumbai</td>\n",
       "    </tr>\n",
       "    <tr>\n",
       "      <th>4</th>\n",
       "      <td>IPL winner 2017</td>\n",
       "      <td>Mumbai Indians</td>\n",
       "      <td>Rising Pune Supergiants</td>\n",
       "      <td>Krunal Pandya</td>\n",
       "      <td>8</td>\n",
       "      <td>Hyderabad</td>\n",
       "    </tr>\n",
       "  </tbody>\n",
       "</table>\n",
       "</div>"
      ],
      "text/plain": [
       "              Year               Winner                Runner Up  \\\n",
       "0  IPL Winner 2021  Chennai Super Kings    Kolkata Knight Riders   \n",
       "1  IPL winner 2020       Mumbai Indians           Delhi Capitals   \n",
       "2  IPL winner 2019       Mumbai Indians      Chennai Super Kings   \n",
       "3  IPL winner 2018  Chennai Super Kings      Sunrisers Hyderabad   \n",
       "4  IPL winner 2017       Mumbai Indians  Rising Pune Supergiants   \n",
       "\n",
       "  Player of the Series  No. of Teams      Venue  \n",
       "0       Faf du Plessis             8      Dubai  \n",
       "1          Trent Boult             8      Dubai  \n",
       "2       Jasprit Bumrah             8  Hyderabad  \n",
       "3         Shane Watson             8     Mumbai  \n",
       "4        Krunal Pandya             8  Hyderabad  "
      ]
     },
     "execution_count": 9,
     "metadata": {},
     "output_type": "execute_result"
    }
   ],
   "source": [
    "match.head()"
   ]
  },
  {
   "cell_type": "code",
   "execution_count": 10,
   "id": "6cf8cb71",
   "metadata": {},
   "outputs": [
    {
     "data": {
      "text/plain": [
       "0       Chennai Super Kings\n",
       "1            Mumbai Indians\n",
       "2            Mumbai Indians\n",
       "3       Chennai Super Kings\n",
       "4            Mumbai Indians\n",
       "5       Sunrisers Hyderabad\n",
       "6            Mumbai Indians\n",
       "7     Kolkata Knight Riders\n",
       "8            Mumbai Indians\n",
       "9     Kolkata Knight Riders\n",
       "10      Chennai Super Kings\n",
       "11      Chennai Super Kings\n",
       "12          Deccan Chargers\n",
       "13         Rajasthan Royals\n",
       "Name: Winner, dtype: object"
      ]
     },
     "execution_count": 10,
     "metadata": {},
     "output_type": "execute_result"
    }
   ],
   "source": [
    "match[\"Winner\"] #2008 to 2021 wiiner scedule"
   ]
  },
  {
   "cell_type": "code",
   "execution_count": 11,
   "id": "6a637b65",
   "metadata": {},
   "outputs": [
    {
     "data": {
      "text/plain": [
       "array(['Chennai Super Kings', 'Mumbai Indians', 'Sunrisers Hyderabad',\n",
       "       'Kolkata Knight Riders', 'Deccan Chargers', 'Rajasthan Royals'],\n",
       "      dtype=object)"
      ]
     },
     "execution_count": 11,
     "metadata": {},
     "output_type": "execute_result"
    }
   ],
   "source": [
    "match[\"Winner\"].unique()"
   ]
  },
  {
   "cell_type": "code",
   "execution_count": 12,
   "id": "446b8be1",
   "metadata": {},
   "outputs": [
    {
     "data": {
      "text/plain": [
       "Mumbai Indians           5\n",
       "Chennai Super Kings      4\n",
       "Kolkata Knight Riders    2\n",
       "Sunrisers Hyderabad      1\n",
       "Deccan Chargers          1\n",
       "Rajasthan Royals         1\n",
       "Name: Winner, dtype: int64"
      ]
     },
     "execution_count": 12,
     "metadata": {},
     "output_type": "execute_result"
    }
   ],
   "source": [
    "#how many times to won the match\n",
    "match[\"Winner\"].value_counts()"
   ]
  },
  {
   "cell_type": "code",
   "execution_count": 21,
   "id": "2cad031f",
   "metadata": {},
   "outputs": [
    {
     "data": {
      "image/png": "[encoded data removed]",
      "text/plain": [
       "<Figure size 432x288 with 1 Axes>"
      ]
     },
     "metadata": {
      "needs_background": "light"
     },
     "output_type": "display_data"
    }
   ],
   "source": [
    "#how many times to won the match in visulize form\n",
    "match[\"Winner\"].value_counts().plot(kind=\"bar\")\n",
    "plt.title(\"Bar graph\",color='red')\n",
    "plt.xlabel(\"Team\")\n",
    "plt.ylabel(\"winning\")\n",
    "plt.show()"
   ]
  },
  {
   "cell_type": "code",
   "execution_count": 25,
   "id": "39bf8a91",
   "metadata": {},
   "outputs": [
    {
     "data": {
      "image/png": "[encoded data removed]",
      "text/plain": [
       "<Figure size 864x720 with 1 Axes>"
      ]
     },
     "metadata": {
      "needs_background": "light"
     },
     "output_type": "display_data"
    }
   ],
   "source": [
    "#how many times to won the match in visulization form \n",
    "#use seaborn librabry then use countplot() inbuilt\n",
    "#method of seaborn library \n",
    "#countplot is a frequency graph\n",
    "plt.figure(figsize=(12,10))   #first width second height\n",
    "sns.countplot(data=match,x=\"Winner\")\n",
    "plt.show()"
   ]
  },
  {
   "cell_type": "code",
   "execution_count": 26,
   "id": "806a17bf",
   "metadata": {},
   "outputs": [
    {
     "data": {
      "image/png": "[encoded data removed]",
      "text/plain": [
       "<Figure size 432x288 with 1 Axes>"
      ]
     },
     "metadata": {},
     "output_type": "display_data"
    }
   ],
   "source": [
    "#pie graph\n",
    "match[\"Winner\"].value_counts().plot(kind=\"pie\")\n",
    "plt.title(\"pie graph\",color='red')\n",
    "plt.xlabel(\"Team\")\n",
    "plt.ylabel(\"winning\")\n",
    "plt.show()"
   ]
  },
  {
   "cell_type": "code",
   "execution_count": 28,
   "id": "c83245db",
   "metadata": {},
   "outputs": [
    {
     "data": {
      "image/png": "[encoded data removed]",
      "text/plain": [
       "<Figure size 432x288 with 1 Axes>"
      ]
     },
     "metadata": {},
     "output_type": "display_data"
    }
   ],
   "source": [
    "match[\"Winner\"].value_counts().plot(kind=\"pie\",autopct='%.2f%%')\n",
    "plt.title(\"pie graph for ipl winner team\",color=\"red\")\n",
    "plt.show()"
   ]
  },
  {
   "cell_type": "code",
   "execution_count": 30,
   "id": "1c8dc0a9",
   "metadata": {},
   "outputs": [
    {
     "data": {
      "text/plain": [
       "'C:\\\\Users\\\\91735'"
      ]
     },
     "execution_count": 30,
     "metadata": {},
     "output_type": "execute_result"
    }
   ],
   "source": [
    "#to save data from dataframe match to permannent file\n",
    "#ipl_match.csv\n",
    "import os\n",
    "os.getcwd()\n"
   ]
  },
  {
   "cell_type": "code",
   "execution_count": 32,
   "id": "95474eec",
   "metadata": {},
   "outputs": [],
   "source": [
    "match.to_csv(\"ipl_eda.csv\",index=False)"
   ]
  },
  {
   "cell_type": "code",
   "execution_count": null,
   "id": "25a86bbd",
   "metadata": {},
   "outputs": [],
   "source": []
  },
  {
   "cell_type": "code",
   "execution_count": null,
   "id": "31a37854",
   "metadata": {},
   "outputs": [],
   "source": []
  }
 ],
 "metadata": {
  "kernelspec": {
   "display_name": "Python 3 (ipykernel)",
   "language": "python",
   "name": "python3"
  },
  "language_info": {
   "codemirror_mode": {
    "name": "ipython",
    "version": 3
   },
   "file_extension": ".py",
   "mimetype": "text/x-python",
   "name": "python",
   "nbconvert_exporter": "python",
   "pygments_lexer": "ipython3",
   "version": "3.9.7"
  }
 },
 "nbformat": 4,
 "nbformat_minor": 5
}
